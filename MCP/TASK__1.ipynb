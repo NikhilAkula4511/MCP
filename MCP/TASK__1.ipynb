{
 "cells": [
  {
   "cell_type": "code",
   "execution_count": 42,
   "id": "81bae7fc-d542-49c9-bcd3-6b263169e63b",
   "metadata": {},
   "outputs": [],
   "source": [
    "def Mcp_and(inputs,threshold_value):\n",
    "    weights=[1]*len(inputs)\n",
    "    bias=-len(inputs)+1\n",
    "    weighted_sum=sum(weights[i]*inputs[i] for i in range(len(inputs)))\n",
    "    weighted_sum += bias\n",
    "    return 1 if weighted_sum >=threshold_value else 0"
   ]
  },
  {
   "cell_type": "code",
   "execution_count": 43,
   "id": "b3535922-6ee8-434e-92bf-ab36ce6116c0",
   "metadata": {},
   "outputs": [
    {
     "data": {
      "text/plain": [
       "1"
      ]
     },
     "execution_count": 43,
     "metadata": {},
     "output_type": "execute_result"
    }
   ],
   "source": [
    "Mcp_and([1,1,1],0.5)"
   ]
  },
  {
   "cell_type": "code",
   "execution_count": 44,
   "id": "2e7ce801-da9c-4fa3-adbc-9b58eae05a86",
   "metadata": {},
   "outputs": [],
   "source": [
    "def Mcp_or(inputs,threshold_value):\n",
    "    weights=[1]*len(inputs)\n",
    "    bias=-len(inputs)+2\n",
    "    weighted_sum=sum(weights[i]*inputs[i] for i in range(len(inputs)))\n",
    "    weighted_sum += bias\n",
    "    return 1 if weighted_sum >=threshold_value else 0"
   ]
  },
  {
   "cell_type": "code",
   "execution_count": 45,
   "id": "71058ad6-c24d-45dc-99c1-6453d48736a8",
   "metadata": {},
   "outputs": [
    {
     "data": {
      "text/plain": [
       "1"
      ]
     },
     "execution_count": 45,
     "metadata": {},
     "output_type": "execute_result"
    }
   ],
   "source": [
    "Mcp_or([1,1,1],0.5)"
   ]
  },
  {
   "cell_type": "code",
   "execution_count": 83,
   "id": "0748de70-eac8-4b2d-b43b-8dbab261fb2a",
   "metadata": {},
   "outputs": [],
   "source": [
    "def McP_neuron(inputs,threshold_value,activation_function):\n",
    "    weights=[1]*len(inputs)\n",
    "    weighted_sum=sum(weights[i]*inputs[i] for i in range(len(inputs)))\n",
    "    if activation_function.lower()=='and':\n",
    "        bias=-len(inputs)+1\n",
    "        weighted_sum += bias\n",
    "        return 1 if weighted_sum >=threshold_value else 0\n",
    "    elif activation_function.lower()=='or':\n",
    "        bias=-len(inputs)+2\n",
    "        weighted_sum += bias\n",
    "        return 1 if weighted_sum >=threshold_value else 0\n",
    "        \n",
    "        "
   ]
  },
  {
   "cell_type": "code",
   "execution_count": 91,
   "id": "6d9a12f1-08ee-4763-bb5e-721f0a7069ab",
   "metadata": {},
   "outputs": [
    {
     "data": {
      "text/plain": [
       "1"
      ]
     },
     "execution_count": 91,
     "metadata": {},
     "output_type": "execute_result"
    }
   ],
   "source": [
    "McP_neuron([1,1,1,1,1,1,1,1,1,1,1,1,1],0.5,\"and\")"
   ]
  },
  {
   "cell_type": "code",
   "execution_count": 4,
   "id": "29b0e09f-775b-4376-b200-c0e3b32a28c3",
   "metadata": {},
   "outputs": [
    {
     "name": "stdout",
     "output_type": "stream",
     "text": [
      "Output: 1\n"
     ]
    }
   ],
   "source": [
    "class McPNeuron:\n",
    "    def __init__(self, num_inputs, activation_function):\n",
    "        self.num_inputs = num_inputs\n",
    "        self.weights = [1] * num_inputs\n",
    "        self.activation_function = activation_function.lower()\n",
    "\n",
    "        if self.activation_function == 'and':\n",
    "            self.bias = -num_inputs + 1\n",
    "        elif self.activation_function == 'or':\n",
    "            self.bias = -num_inputs + 2\n",
    "        else:\n",
    "            raise ValueError(\"Unknown activation function: {}\".format(activation_function))\n",
    "\n",
    "    def calculate_output(self, inputs, threshold_value):\n",
    "        weighted_sum = sum(self.weights[i] * inputs[i] for i in range(self.num_inputs))\n",
    "        weighted_sum += self.bias\n",
    "        return 1 if weighted_sum >= threshold_value else 0\n",
    "\n",
    "# Example usage:\n",
    "inputs = [1, 1, 1,1]  # Example input values\n",
    "threshold_value = 0.5\n",
    "activation_function = 'AND'  # Example activation function\n",
    "\n",
    "neuron = McPNeuron(len(inputs), activation_function)\n",
    "output = neuron.calculate_output(inputs, threshold_value)\n",
    "print(\"Output:\", output)\n"
   ]
  },
  {
   "cell_type": "code",
   "execution_count": null,
   "id": "78f4a4f7-b3c5-4fb8-bc50-7dae11748202",
   "metadata": {},
   "outputs": [],
   "source": []
  }
 ],
 "metadata": {
  "kernelspec": {
   "display_name": "Python 3 (ipykernel)",
   "language": "python",
   "name": "python3"
  },
  "language_info": {
   "codemirror_mode": {
    "name": "ipython",
    "version": 3
   },
   "file_extension": ".py",
   "mimetype": "text/x-python",
   "name": "python",
   "nbconvert_exporter": "python",
   "pygments_lexer": "ipython3",
   "version": "3.11.3"
  }
 },
 "nbformat": 4,
 "nbformat_minor": 5
}
